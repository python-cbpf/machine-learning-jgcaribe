{
 "cells": [
  {
   "cell_type": "markdown",
   "metadata": {},
   "source": [
    "Let $\\omega_{j,k}^{l}$ be the weight from the k'th neuron in the (l-1)'th layer to the j'th neuron in the l'th layer. Let $a_{j}^{l}$ be the activation of the j'th neuron in the l'th layer. Now, let the output of a 3-layer neural network be $O = \\sigma\\left( \\sum_{i=1}^{4}a_{i}^{2}\\omega_{1,i}^{3} \\right)$. Its error is $E = \\frac{1}{2}(O-P)^2$, and $a^2_{j} = \\sigma\\left( \\sum_{i=1}^{3}x_{1}\\omega_{j,i}^2 \\right)$. With that setup, evaluate $\\frac{\\partial{E}}{\\partial \\omega^{l}_{j,k}}$"
   ]
  },
  {
   "cell_type": "markdown",
   "metadata": {},
   "source": [
    "Remember that $\\sigma(x)=\\frac{1}{1+e^{-x}}$"
   ]
  },
  {
   "cell_type": "markdown",
   "metadata": {},
   "source": [
    "$\\frac{\\partial{E}}{\\partial \\omega^{l}_{j,k}} = \\frac{\\partial}{\\partial \\omega^{l}_{j,k}}\\left[ \\frac{1}{2}(O-P)^2 \\right] = (O-P)\\frac{\\partial}{\\partial \\omega^{l}_{j,k}}O$"
   ]
  },
  {
   "cell_type": "markdown",
   "metadata": {},
   "source": [
    "We know that: $\\frac{d\\sigma}{dx} = \\sigma(x)(1 - \\sigma(x))$, then"
   ]
  },
  {
   "cell_type": "markdown",
   "metadata": {},
   "source": [
    "$\\frac{\\partial{E}}{\\partial \\omega^{l}_{j,k}} = \\frac{\\partial}{\\partial \\omega^{l}_{j,k}}\\left[ \\frac{1}{2}(O-P)^2 \\right] = (O-P)O\\frac{\\partial}{\\partial \\omega^{l}_{j,k}}\\left( \\sum_{i=1}^{4}a_{i}^{2}\\omega_{1,i}^{3} \\right)$"
   ]
  },
  {
   "cell_type": "markdown",
   "metadata": {},
   "source": [
    "$\\frac{\\partial{E}}{\\partial \\omega^{l}_{j,k}} = \\frac{\\partial}{\\partial \\omega^{l}_{j,k}}\\left[ \\frac{1}{2}(O-P)^2 \\right] = (O-P)O\\sum_{i=1}^{4}\\frac{\\partial}{\\partial \\omega^{l}_{j,k}}\\left(a_{i}^{2}\\omega_{1,i}^{3} \\right)$"
   ]
  },
  {
   "cell_type": "markdown",
   "metadata": {},
   "source": [
    "$\\frac{\\partial{E}}{\\partial \\omega^{l}_{j,k}} = \\frac{\\partial}{\\partial \\omega^{l}_{j,k}}\\left[ \\frac{1}{2}(O-P)^2 \\right] = (O-P)O\\sum_{i=1}^{4}\\left(\\omega_{1,i}^{3}\\frac{\\partial}{\\partial\\omega^{l}_{j,k}}a_{i}^{2} + a_{i}^{2}\\frac{\\partial}{\\partial\\omega^{l}_{j,k}}\\omega_{1,i}^{3}\\right)$"
   ]
  },
  {
   "cell_type": "markdown",
   "metadata": {},
   "source": [
    "$\\frac{\\partial{E}}{\\partial \\omega^{l}_{j,k}} = \\frac{\\partial}{\\partial \\omega^{l}_{j,k}}\\left[ \\frac{1}{2}(O-P)^2 \\right] = (O-P)O\\sum_{i=1}^{4}\\left(\\omega_{1,i}^{3}\\frac{\\partial}{\\partial\\omega^{l}_{j,k}}a_{i}^{2} + a_{i}^{2}\\delta_{l,3}\\delta_{j,1}\\delta_{k,i}\\right)$"
   ]
  },
  {
   "cell_type": "markdown",
   "metadata": {},
   "source": [
    "$\\frac{\\partial{E}}{\\partial \\omega^{l}_{j,k}} = \\frac{\\partial}{\\partial \\omega^{l}_{j,k}}\\left[ \\frac{1}{2}(O-P)^2 \\right] = (O-P)O\\left[ a_{k}^{2}\\delta_{l,3}\\delta_{j,1} + \\sum_{i=1}^{4}\\omega_{1,i}^{3}\\frac{\\partial}{\\partial\\omega^{l}_{j,k}}a_{i}^{2} \\right]$"
   ]
  },
  {
   "cell_type": "markdown",
   "metadata": {},
   "source": [
    "$\\frac{\\partial{E}}{\\partial \\omega^{l}_{j,k}} = \\frac{\\partial}{\\partial \\omega^{l}_{j,k}}\\left[ \\frac{1}{2}(O-P)^2 \\right] = (O-P)O\\left[ a_{k}^{2}\\delta_{l,3}\\delta_{j,1} + \\sum_{i=1}^{4}\\omega_{1,i}^{3}a_{i}^{2}\\left(1-a_{i}^{2}\\right)\\frac{\\partial}{\\partial\\omega^{l}_{j,k}}\\left( \\sum_{i=1}^{3}x_{1}\\omega_{j,i}^2\\right) \\right]$"
   ]
  },
  {
   "cell_type": "markdown",
   "metadata": {},
   "source": [
    "$\\frac{\\partial{E}}{\\partial \\omega^{l}_{j,k}} = \\frac{\\partial}{\\partial \\omega^{l}_{j,k}}\\left[ \\frac{1}{2}(O-P)^2 \\right] = (O-P)O\\left[ a_{k}^{2}\\delta_{l,3}\\delta_{j,1} + \\sum_{i=1}^{4}\\omega_{1,i}^{3}a_{i}^{2}\\left(1-a_{i}^{2}\\right)\\frac{\\partial}{\\partial\\omega^{l}_{j,k}}x_{1} \\sum_{i=1}^{3}\\omega_{j,i}^2\\delta_{k,i} \\right]$"
   ]
  },
  {
   "cell_type": "markdown",
   "metadata": {},
   "source": [
    "$\\frac{\\partial{E}}{\\partial \\omega^{l}_{j,k}} = \\frac{\\partial}{\\partial \\omega^{l}_{j,k}}\\left[ \\frac{1}{2}(O-P)^2 \\right] = (O-P)O\\left[ a_{k}^{2}\\delta_{l,3}\\delta_{j,1} + \\sum_{i=1}^{4}\\omega_{1,i}^{3}a_{i}^{2}\\left(1-a_{i}^{2}\\right)\\frac{\\partial}{\\partial\\omega^{l}_{j,k}}x_{1}\\omega_{j,k}^2 \\right]$"
   ]
  }
 ],
 "metadata": {
  "kernelspec": {
   "display_name": "Python 3",
   "language": "python",
   "name": "python3"
  },
  "language_info": {
   "codemirror_mode": {
    "name": "ipython",
    "version": 3
   },
   "file_extension": ".py",
   "mimetype": "text/x-python",
   "name": "python",
   "nbconvert_exporter": "python",
   "pygments_lexer": "ipython3",
   "version": "3.7.4"
  }
 },
 "nbformat": 4,
 "nbformat_minor": 4
}
